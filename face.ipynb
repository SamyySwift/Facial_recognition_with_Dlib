{
 "cells": [
  {
   "cell_type": "code",
   "execution_count": 1,
   "id": "0b991897",
   "metadata": {},
   "outputs": [],
   "source": [
    "import os\n",
    "import cv2\n",
    "import face_recognition\n",
    "import glob \n",
    "import numpy as np\n",
    "import time\n",
    "import pyttsx3 as tts\n",
    "from scipy.spatial import distance as dist"
   ]
  },
  {
   "cell_type": "code",
   "execution_count": 2,
   "id": "0bc866a2",
   "metadata": {},
   "outputs": [],
   "source": [
    "speaker = tts.init()"
   ]
  },
  {
   "cell_type": "code",
   "execution_count": 3,
   "id": "8e763885",
   "metadata": {},
   "outputs": [],
   "source": [
    "\n",
    "\n",
    "def swift_speak(audio_string):\n",
    "    print(f'Swift: {audio_string}')\n",
    "    voices = speaker.getProperty('voices')\n",
    "    rate = speaker.getProperty('rate')\n",
    "    speaker.setProperty('rate', 150)\n",
    "    speaker.setProperty('voice', voices[1].id)\n",
    "    speaker.say(audio_string)\n",
    "    speaker.runAndWait()"
   ]
  },
  {
   "cell_type": "code",
   "execution_count": 4,
   "id": "b2f7eba4",
   "metadata": {},
   "outputs": [],
   "source": [
    "img_path = 'images'   "
   ]
  },
  {
   "cell_type": "code",
   "execution_count": 5,
   "id": "b2df26e7",
   "metadata": {},
   "outputs": [],
   "source": [
    "known_face_encodings = []\n",
    "known_face_names = []\n",
    "\n",
    "def load_encoding_images(images_path):\n",
    "  \n",
    "        # Store image encoding and names\n",
    "    for img_path in glob.glob(images_path +'/*'):\n",
    "        img = cv2.imread(img_path)\n",
    "        rgb_img = cv2.cvtColor(img, cv2.COLOR_BGR2RGB)\n",
    "        \n",
    "        name = os.path.splitext(os.path.basename(img_path))[0]\n",
    "          \n",
    "        img_encoding = face_recognition.face_encodings(rgb_img)[0]\n",
    "\n",
    "            # Store file name and file encoding\n",
    "        known_face_encodings.append(img_encoding)\n",
    "        known_face_names.append(name)\n",
    "    print(\"Encoding images loaded\")\n"
   ]
  },
  {
   "cell_type": "code",
   "execution_count": 6,
   "id": "69159805",
   "metadata": {},
   "outputs": [
    {
     "name": "stdout",
     "output_type": "stream",
     "text": [
      "Encoding images loaded\n"
     ]
    }
   ],
   "source": [
    "load_encoding_images(img_path)"
   ]
  },
  {
   "cell_type": "code",
   "execution_count": 17,
   "id": "23f14d8a",
   "metadata": {},
   "outputs": [],
   "source": [
    "def recognize(img, ear):\n",
    "    face_locations = []\n",
    "    face_encodings = []\n",
    "    face_names = []\n",
    "    \n",
    "    if ear < 0.15:\n",
    "        cv2.putText(frame, 'You blinked', (10, 30), cv2.FONT_HERSHEY_COMPLEX, 1, (0, 255, 255), 2)\n",
    "        \n",
    "        # Find all the faces and face encodings in the current frame of video\n",
    "        face_locations = face_recognition.face_locations(img)\n",
    "        face_encodings = face_recognition.face_encodings(img, face_locations)\n",
    "        \n",
    "        # face_names = []\n",
    "        for face_encoding in face_encodings:\n",
    "            # See if the face is a match for the known face(s)\n",
    "            matches = face_recognition.compare_faces(known_face_encodings, face_encoding)\n",
    "            name = \"Unknown\"\n",
    "            \n",
    "             # Use the known face with the smallest distance to the new face\n",
    "            face_distances = face_recognition.face_distance(known_face_encodings, face_encoding)\n",
    "            best_match_index = np.argmin(face_distances)\n",
    "            if matches[best_match_index]:\n",
    "                name = known_face_names[best_match_index]\n",
    "\n",
    "            face_names.append(name)\n",
    "    else:\n",
    "        cv2.putText(frame, 'No Liveliness Detected', (10, 30), cv2.FONT_HERSHEY_COMPLEX, 1.0, (255, 255, 255, 255), 1)\n",
    "    \n",
    "   \n",
    "    # Display the results\n",
    "    for (top, right, bottom, left), name in zip(face_locations, face_names):\n",
    "        # Scale back up face locations since the frame we detected in was scaled to 1/4 size\n",
    "        top *= 4\n",
    "        right *= 4\n",
    "        bottom *= 4\n",
    "        left *= 4\n",
    "        \n",
    "        # Add text to speech\n",
    "        # swift_speak(f'Welcome, {name}')\n",
    "        \n",
    "        # Draw a box around the face\n",
    "        cv2.rectangle(frame, (left, top), (right, bottom), (255, 255, 255, 255), 1)\n",
    "        # Draw a label with a name below the face\n",
    "        cv2.rectangle(frame, (left, bottom - 30), (right, bottom), (0, 0, 0), cv2.FILLED)\n",
    "        cv2.putText(frame, name, (left+6, bottom - 6), cv2.FONT_HERSHEY_DUPLEX, 1.0, (255, 255, 255), 1)\n"
   ]
  },
  {
   "cell_type": "code",
   "execution_count": 12,
   "id": "f9edcdc1",
   "metadata": {},
   "outputs": [],
   "source": [
    "def get_ear(eye):\n",
    "\n",
    "    # compute the euclidean distances between the two sets of\n",
    "    # vertical eye landmarks (x, y)-coordinates\n",
    "    A = dist.euclidean(eye[1], eye[5])\n",
    "    B = dist.euclidean(eye[2], eye[4])\n",
    "\n",
    "    # compute the euclidean distance between the horizontal\n",
    "    # eye landmark (x, y)-coordinates\n",
    "    C = dist.euclidean(eye[0], eye[3])\n",
    "\n",
    "    # compute the eye aspect ratio\n",
    "    ear = (A + B) / (2.0 * C)\n",
    "\n",
    "    # return the eye aspect ratio\n",
    "    return ear"
   ]
  },
  {
   "cell_type": "code",
   "execution_count": 18,
   "id": "391f3b0c",
   "metadata": {
    "scrolled": true
   },
   "outputs": [],
   "source": [
    "cam = cv2.VideoCapture(0)\n",
    "cTime = 0\n",
    "pTime = 0\n",
    "    \n",
    "while True:\n",
    "    ret, frame = cam.read()\n",
    "    if not ret:\n",
    "        break\n",
    "    \n",
    "    small_frame = cv2.resize(frame, (0, 0), fx=0.25, fy=0.25)\n",
    "    small_rgb = cv2.cvtColor(small_frame, cv2.COLOR_BGR2RGB)\n",
    "    \n",
    "    landmarks = face_recognition.face_landmarks(small_rgb)\n",
    "    \n",
    "    \n",
    "    cTime = time.time()\n",
    "    fps = 1 / (cTime-pTime)\n",
    "    pTime = cTime\n",
    "    \n",
    "    for landmark in landmarks:\n",
    "        leftEye = landmark['left_eye']\n",
    "        rightEye = landmark['right_eye']\n",
    "        \n",
    "        # Get aspect ratios for left and right eyes\n",
    "        leftEar = get_ear(leftEye)\n",
    "        rightEar = get_ear(rightEye)\n",
    "        \n",
    "        ear = (leftEar + rightEar) / 2.0\n",
    "\n",
    "        # recognise\n",
    "        recognize(small_rgb, ear)\n",
    "\n",
    "        # if ear < 0.15:\n",
    "        #       cv2.putText(frame, f'You blinked', (10, 30), cv2.FONT_HERSHEY_COMPLEX, 1, (255, 255, 255, 255), 1)\n",
    "             \n",
    "    cv2.putText(frame, f'{int(fps)} fps', (580, 30), cv2.FONT_HERSHEY_COMPLEX, 1, (255, 255, 255, 255), 1)   \n",
    "    cv2.imshow('video', frame)\n",
    "    if cv2.waitKey(1) == ord('q'):\n",
    "        break\n",
    "    \n",
    "\n",
    "cam.release()\n",
    "cv2.destroyAllWindows()   "
   ]
  }
 ],
 "metadata": {
  "kernelspec": {
   "display_name": "Python 3 (ipykernel)",
   "language": "python",
   "name": "python3"
  },
  "language_info": {
   "codemirror_mode": {
    "name": "ipython",
    "version": 3
   },
   "file_extension": ".py",
   "mimetype": "text/x-python",
   "name": "python",
   "nbconvert_exporter": "python",
   "pygments_lexer": "ipython3",
   "version": "3.9.7"
  }
 },
 "nbformat": 4,
 "nbformat_minor": 5
}
